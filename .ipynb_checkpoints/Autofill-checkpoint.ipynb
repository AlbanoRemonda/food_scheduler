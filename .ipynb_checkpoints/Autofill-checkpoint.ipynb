{
 "cells": [
  {
   "cell_type": "code",
   "execution_count": 5,
   "id": "b25caf16",
   "metadata": {},
   "outputs": [
    {
     "name": "stderr",
     "output_type": "stream",
     "text": [
      "Exception in Tkinter callback\n",
      "Traceback (most recent call last):\n",
      "  File \"C:\\Users\\Pucho\\anaconda3\\envs\\dhdsblend2021\\lib\\tkinter\\__init__.py\", line 1892, in __call__\n",
      "    return self.func(*args)\n",
      "  File \"C:\\Users\\Pucho\\AppData\\Local\\Temp\\ipykernel_10648\\1806991649.py\", line 16, in my_upd\n",
      "    index = int(window.curselection()[0])\n",
      "IndexError: tuple index out of range\n"
     ]
    },
    {
     "name": "stdout",
     "output_type": "stream",
     "text": [
      "Albano\n"
     ]
    }
   ],
   "source": [
    "import tkinter as tk\n",
    "import re\n",
    "from tkinter import END\n",
    "\n",
    "window = tk.Tk()\n",
    "window.geometry(\"410x400\")  \n",
    "window.title(\"Autofill\")  \n",
    "\n",
    "lista=['Albano','Aurelio','Lorena','Gonzalo','baba','bcbc']\n",
    "\n",
    "label_autocomplete=tk.Label(text='Autocomplete') \n",
    "label_autocomplete.grid(row=0,column=1) \n",
    "\n",
    "def my_upd(my_widget): \n",
    "    window = my_widget.widget\n",
    "    index = int(window.curselection()[0]) \n",
    "    value = window.get(index) \n",
    "    entry_str.set(value)\n",
    "    listbox.delete(0,END) \n",
    "    print(entry_str.get())\n",
    "    \n",
    "entry_str=tk.StringVar()  \n",
    "entry=tk.Entry(window,textvariable=entry_str)   \n",
    "entry.grid(row=1,column=1,padx=10,pady=0)\n",
    "\n",
    "listbox = tk.Listbox(window,height=6,relief='flat',bg='SystemButtonFace',highlightcolor= 'SystemButtonFace')\n",
    "listbox.grid(row=2,column=1) \n",
    "\n",
    "def get_data(*args): \n",
    "    search_str=entry.get() \n",
    "    listbox.delete(0,END)     \n",
    "    for element in lista:\n",
    "        if(re.match(search_str,element,re.IGNORECASE)):\n",
    "            listbox.insert(tk.END,element) # Habría que usar con archers_list buscando por nombre o apellido\n",
    "\n",
    "listbox.bind('<<ListboxSelect>>', my_upd)\n",
    "entry_str.trace('w',get_data)   \n",
    "\n",
    "window.mainloop() "
   ]
  },
  {
   "cell_type": "code",
   "execution_count": null,
   "id": "768b2ab3",
   "metadata": {},
   "outputs": [],
   "source": []
  },
  {
   "cell_type": "code",
   "execution_count": 11,
   "id": "32b523de",
   "metadata": {},
   "outputs": [
    {
     "name": "stdout",
     "output_type": "stream",
     "text": [
      "Match\n"
     ]
    }
   ],
   "source": [
    "import re\n",
    "search_str='a'\n",
    "element=['algo']\n",
    "if re.match(search_str,element[0],re.IGNORECASE):\n",
    "    print('Match')\n"
   ]
  },
  {
   "cell_type": "code",
   "execution_count": null,
   "id": "86d67e3c",
   "metadata": {},
   "outputs": [],
   "source": []
  }
 ],
 "metadata": {
  "kernelspec": {
   "display_name": "Python [conda env:dhdsblend2021] *",
   "language": "python",
   "name": "conda-env-dhdsblend2021-py"
  },
  "language_info": {
   "codemirror_mode": {
    "name": "ipython",
    "version": 3
   },
   "file_extension": ".py",
   "mimetype": "text/x-python",
   "name": "python",
   "nbconvert_exporter": "python",
   "pygments_lexer": "ipython3",
   "version": "3.8.13"
  }
 },
 "nbformat": 4,
 "nbformat_minor": 5
}
