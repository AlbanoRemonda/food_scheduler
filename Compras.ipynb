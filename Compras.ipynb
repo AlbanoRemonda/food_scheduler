{
 "cells": [
  {
   "cell_type": "code",
   "execution_count": 14,
   "id": "b8e7e0c6",
   "metadata": {
    "scrolled": false
   },
   "outputs": [
    {
     "name": "stdout",
     "output_type": "stream",
     "text": [
      "['Arroz frito', '']\n",
      "['Arroz frito', '']\n",
      "['Arroz frito', 'Milanesa de pechuga']\n",
      "['Arroz frito', 'Milanesa de pechuga']\n"
     ]
    }
   ],
   "source": [
    "%reset -f \n",
    "\n",
    "import numpy as np\n",
    "import tkinter as tk\n",
    "from tkinter import ttk\n",
    "\n",
    "\n",
    "def my_command():\n",
    "    pass\n",
    "\n",
    "\n",
    "    \n",
    "    \n",
    "def func(*args):\n",
    "    var=[]\n",
    "    for i in np.arange(2):\n",
    "        variable1m=variable[i].get()\n",
    "        var.append(variable1m)\n",
    "    print(var)\n",
    "                 \n",
    "\n",
    "\n",
    "\n",
    "main_window=tk.Tk() # Crea la ventana principal\n",
    "main_window.geometry(\"500x600\") # Establece las dimensiones de main_window\n",
    "main_window.title(\"Cronograma\") # Establece el nombre de main_window\n",
    "\n",
    "lista_recetas=[\"Arroz frito\",\"Milanesa de pechuga\",\"Puré de papas\",\"<->\"]\n",
    "\n",
    "# Cronograma. Primera columna\n",
    "x_c=0\n",
    "y_c=25\n",
    "celdas=[]\n",
    "\n",
    "#casillas=3\n",
    "#variable=[]\n",
    "#for i in np.arange(casillas*3-1):\n",
    "#    str_var=tk.StringVar()\n",
    "#    variable.append(str_var)\n",
    "\n",
    "variable=[tk.StringVar(),tk.StringVar()]\n",
    "\n",
    "\n",
    "\n",
    "for l in np.arange(2):\n",
    "        celda= ttk.OptionMenu(main_window,variable[l],'',*lista_recetas)\n",
    "        celda.place(x=x_c,y=y_c,width=100,height=25)\n",
    "        celdas.append(celda)\n",
    "        variable[l].trace('w',func)\n",
    "        y_c=y_c+25\n",
    "\n",
    "ttk.Style(main_window).configure(\"TMenubutton\",background=\"dark orange\")  \n",
    "\n",
    "main_window.mainloop()\n"
   ]
  },
  {
   "cell_type": "code",
   "execution_count": 5,
   "id": "d3b23a5e",
   "metadata": {},
   "outputs": [],
   "source": [
    "# https://www.pythontutorial.net/tkinter/tkinter-listbox/\n",
    "# Crear una listbox"
   ]
  },
  {
   "cell_type": "code",
   "execution_count": null,
   "id": "6e1ad277",
   "metadata": {},
   "outputs": [],
   "source": [
    "# https://www.youtube.com/watch?v=PVoFaw-fwbI\n",
    "# Crear radiobuttons"
   ]
  },
  {
   "cell_type": "code",
   "execution_count": null,
   "id": "8919198b",
   "metadata": {},
   "outputs": [],
   "source": [
    "# https://recursospython.com/guias-y-manuales/lista-desplegable-combobox-en-tkinter/\n",
    "# Lista desplegable"
   ]
  },
  {
   "cell_type": "code",
   "execution_count": 13,
   "id": "cf316fb9",
   "metadata": {},
   "outputs": [
    {
     "ename": "RuntimeError",
     "evalue": "Too early to create variable: no default root window",
     "output_type": "error",
     "traceback": [
      "\u001b[1;31m---------------------------------------------------------------------------\u001b[0m",
      "\u001b[1;31mRuntimeError\u001b[0m                              Traceback (most recent call last)",
      "Input \u001b[1;32mIn [13]\u001b[0m, in \u001b[0;36m<cell line: 4>\u001b[1;34m()\u001b[0m\n\u001b[0;32m      3\u001b[0m variable\u001b[38;5;241m=\u001b[39m[]\n\u001b[0;32m      4\u001b[0m \u001b[38;5;28;01mfor\u001b[39;00m i \u001b[38;5;129;01min\u001b[39;00m np\u001b[38;5;241m.\u001b[39marange(casillas\u001b[38;5;241m*\u001b[39m\u001b[38;5;241m3\u001b[39m\u001b[38;5;241m-\u001b[39m\u001b[38;5;241m1\u001b[39m):\n\u001b[1;32m----> 5\u001b[0m     str_var\u001b[38;5;241m=\u001b[39m\u001b[43mtk\u001b[49m\u001b[38;5;241;43m.\u001b[39;49m\u001b[43mStringVar\u001b[49m\u001b[43m(\u001b[49m\u001b[43m)\u001b[49m\n\u001b[0;32m      6\u001b[0m     variable\u001b[38;5;241m.\u001b[39mappend(str_var)\n",
      "File \u001b[1;32m~\\anaconda3\\envs\\dhdsblend2021\\lib\\tkinter\\__init__.py:515\u001b[0m, in \u001b[0;36mStringVar.__init__\u001b[1;34m(self, master, value, name)\u001b[0m\n\u001b[0;32m    505\u001b[0m \u001b[38;5;28;01mdef\u001b[39;00m \u001b[38;5;21m__init__\u001b[39m(\u001b[38;5;28mself\u001b[39m, master\u001b[38;5;241m=\u001b[39m\u001b[38;5;28;01mNone\u001b[39;00m, value\u001b[38;5;241m=\u001b[39m\u001b[38;5;28;01mNone\u001b[39;00m, name\u001b[38;5;241m=\u001b[39m\u001b[38;5;28;01mNone\u001b[39;00m):\n\u001b[0;32m    506\u001b[0m     \u001b[38;5;124;03m\"\"\"Construct a string variable.\u001b[39;00m\n\u001b[0;32m    507\u001b[0m \n\u001b[0;32m    508\u001b[0m \u001b[38;5;124;03m    MASTER can be given as master widget.\u001b[39;00m\n\u001b[1;32m   (...)\u001b[0m\n\u001b[0;32m    513\u001b[0m \u001b[38;5;124;03m    then the existing value is retained.\u001b[39;00m\n\u001b[0;32m    514\u001b[0m \u001b[38;5;124;03m    \"\"\"\u001b[39;00m\n\u001b[1;32m--> 515\u001b[0m     \u001b[43mVariable\u001b[49m\u001b[38;5;241;43m.\u001b[39;49m\u001b[38;5;21;43m__init__\u001b[39;49m\u001b[43m(\u001b[49m\u001b[38;5;28;43mself\u001b[39;49m\u001b[43m,\u001b[49m\u001b[43m \u001b[49m\u001b[43mmaster\u001b[49m\u001b[43m,\u001b[49m\u001b[43m \u001b[49m\u001b[43mvalue\u001b[49m\u001b[43m,\u001b[49m\u001b[43m \u001b[49m\u001b[43mname\u001b[49m\u001b[43m)\u001b[49m\n",
      "File \u001b[1;32m~\\anaconda3\\envs\\dhdsblend2021\\lib\\tkinter\\__init__.py:346\u001b[0m, in \u001b[0;36mVariable.__init__\u001b[1;34m(self, master, value, name)\u001b[0m\n\u001b[0;32m    344\u001b[0m \u001b[38;5;28;01mglobal\u001b[39;00m _varnum\n\u001b[0;32m    345\u001b[0m \u001b[38;5;28;01mif\u001b[39;00m \u001b[38;5;129;01mnot\u001b[39;00m master:\n\u001b[1;32m--> 346\u001b[0m     master \u001b[38;5;241m=\u001b[39m \u001b[43m_get_default_root\u001b[49m\u001b[43m(\u001b[49m\u001b[38;5;124;43m'\u001b[39;49m\u001b[38;5;124;43mcreate variable\u001b[39;49m\u001b[38;5;124;43m'\u001b[39;49m\u001b[43m)\u001b[49m\n\u001b[0;32m    347\u001b[0m \u001b[38;5;28mself\u001b[39m\u001b[38;5;241m.\u001b[39m_root \u001b[38;5;241m=\u001b[39m master\u001b[38;5;241m.\u001b[39m_root()\n\u001b[0;32m    348\u001b[0m \u001b[38;5;28mself\u001b[39m\u001b[38;5;241m.\u001b[39m_tk \u001b[38;5;241m=\u001b[39m master\u001b[38;5;241m.\u001b[39mtk\n",
      "File \u001b[1;32m~\\anaconda3\\envs\\dhdsblend2021\\lib\\tkinter\\__init__.py:297\u001b[0m, in \u001b[0;36m_get_default_root\u001b[1;34m(what)\u001b[0m\n\u001b[0;32m    295\u001b[0m \u001b[38;5;28;01mif\u001b[39;00m \u001b[38;5;129;01mnot\u001b[39;00m _default_root:\n\u001b[0;32m    296\u001b[0m     \u001b[38;5;28;01mif\u001b[39;00m what:\n\u001b[1;32m--> 297\u001b[0m         \u001b[38;5;28;01mraise\u001b[39;00m \u001b[38;5;167;01mRuntimeError\u001b[39;00m(\u001b[38;5;124mf\u001b[39m\u001b[38;5;124m\"\u001b[39m\u001b[38;5;124mToo early to \u001b[39m\u001b[38;5;132;01m{\u001b[39;00mwhat\u001b[38;5;132;01m}\u001b[39;00m\u001b[38;5;124m: no default root window\u001b[39m\u001b[38;5;124m\"\u001b[39m)\n\u001b[0;32m    298\u001b[0m     root \u001b[38;5;241m=\u001b[39m Tk()\n\u001b[0;32m    299\u001b[0m     \u001b[38;5;28;01massert\u001b[39;00m _default_root \u001b[38;5;129;01mis\u001b[39;00m root\n",
      "\u001b[1;31mRuntimeError\u001b[0m: Too early to create variable: no default root window"
     ]
    }
   ],
   "source": []
  },
  {
   "cell_type": "code",
   "execution_count": null,
   "id": "ab898ecf",
   "metadata": {},
   "outputs": [],
   "source": []
  }
 ],
 "metadata": {
  "kernelspec": {
   "display_name": "Python [conda env:dhdsblend2021] *",
   "language": "python",
   "name": "conda-env-dhdsblend2021-py"
  },
  "language_info": {
   "codemirror_mode": {
    "name": "ipython",
    "version": 3
   },
   "file_extension": ".py",
   "mimetype": "text/x-python",
   "name": "python",
   "nbconvert_exporter": "python",
   "pygments_lexer": "ipython3",
   "version": "3.8.13"
  }
 },
 "nbformat": 4,
 "nbformat_minor": 5
}
