{
 "cells": [
  {
   "cell_type": "code",
   "execution_count": 26,
   "id": "8c93b53e",
   "metadata": {},
   "outputs": [
    {
     "name": "stderr",
     "output_type": "stream",
     "text": [
      "Exception in Tkinter callback\n",
      "Traceback (most recent call last):\n",
      "  File \"C:\\Users\\Pucho\\anaconda3\\envs\\dhdsblend2021\\lib\\tkinter\\__init__.py\", line 1892, in __call__\n",
      "    return self.func(*args)\n",
      "  File \"C:\\Users\\Pucho\\AppData\\Local\\Temp\\ipykernel_15712\\1445435639.py\", line 25, in add_archer\n",
      "    print(tree.item(columna)[0])\n",
      "KeyError: 0\n"
     ]
    }
   ],
   "source": [
    "%reset -f\n",
    "import tkinter as tk\n",
    "from tkinter import ttk\n",
    "from tkinter import END\n",
    "\n",
    "\n",
    "window=tk.Tk()\n",
    "window.geometry(\"400x400\")\n",
    "\n",
    "head=['ID','Nombre','Apellido']\n",
    "data=[('1', '25', '30'),('2','Algo','Es'),('3','mmm','a'),('4','ff','F1')]\n",
    "\n",
    "tree=ttk.Treeview(window,column=head)\n",
    "tree.pack()\n",
    "tree['show']='headings'\n",
    "\n",
    "for i in head:\n",
    "    tree.column(i,width=100)\n",
    "    tree.heading(i,text=i) \n",
    "for i in data:\n",
    "    tree.insert('',END,values=i)\n",
    "\n",
    "def add_archer(_):\n",
    "    columna=tree.selection()[0]\n",
    "    print(tree.item(columna)['values'][0])\n",
    "      \n",
    "\n",
    "    \n",
    "tree.bind('<Double-Button-1>', add_archer)\n",
    "    \n",
    "window.mainloop()\n",
    "\n"
   ]
  },
  {
   "cell_type": "code",
   "execution_count": null,
   "id": "580183cf",
   "metadata": {},
   "outputs": [],
   "source": []
  }
 ],
 "metadata": {
  "kernelspec": {
   "display_name": "Python [conda env:dhdsblend2021] *",
   "language": "python",
   "name": "conda-env-dhdsblend2021-py"
  },
  "language_info": {
   "codemirror_mode": {
    "name": "ipython",
    "version": 3
   },
   "file_extension": ".py",
   "mimetype": "text/x-python",
   "name": "python",
   "nbconvert_exporter": "python",
   "pygments_lexer": "ipython3",
   "version": "3.8.13"
  }
 },
 "nbformat": 4,
 "nbformat_minor": 5
}
